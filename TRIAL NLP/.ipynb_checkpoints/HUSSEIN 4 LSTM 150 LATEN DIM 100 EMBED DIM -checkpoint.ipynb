{
 "cells": [
  {
   "cell_type": "markdown",
   "metadata": {
    "colab_type": "text",
    "id": "qFuL-RBgXqgU"
   },
   "source": [
    "## Teks Summarisation Using Deep Learning for Analyze Customer Review of Amazon Fine Food Products"
   ]
  },
  {
   "cell_type": "markdown",
   "metadata": {
    "colab_type": "text",
    "id": "voDmX6CyLrNI"
   },
   "source": [
    "### Kelompok\n",
    "Anggota 1 : Muhammad Hussein 201710370311191\n",
    "<br>\n",
    "Anggota 2 : Moch. Chamdani Mustaqim 201710370311285"
   ]
  },
  {
   "cell_type": "markdown",
   "metadata": {
    "colab_type": "text",
    "id": "FpWts88MRPUv"
   },
   "source": [
    "# **Permasalahan Yang Kami Angkat**\n",
    "\n",
    "Ulasan dari pelanggan seringkali panjang dan deskriptif. Dengan menganalisis ulasan ini secara manual benar-benar memakan waktu. Di sinilah kelebihan **Pemrosesan Bahasa Alami** dapat diterapkan untuk menghasilkan ringkasan untuk ulasan yang panjang.\n",
    "\n",
    "Kami di sini menggunakan dataset ulasan pelanggan Amazon Fine Food. Tujuan kami adalah untuk menghasilkan ringkasan ulasan pelanggan Amazon Fine Food menggunakan pendekatan berbasis deep learning.\n",
    "\n",
    "<br>\n",
    "\n",
    "# **Custom Attention Layer**\n",
    "\n",
    "Keras tidak secara resmi mendukung Attention Layer. Jadi, kami mengimplementasikan Attention Layer dari github public. Kami mengunduh Attention Layer dari [sini](https://github.com/thushv89/attention_keras/blob/master/layers/attention.py) kemudian menyalin dan menyimpannya di file berbeda bernama attention.py."
   ]
  },
  {
   "cell_type": "markdown",
   "metadata": {
    "colab_type": "text",
    "id": "WIujPSa_TwkS"
   },
   "source": [
    "# Mount Google Drive dan Upload file attention.py"
   ]
  },
  {
   "cell_type": "code",
   "execution_count": 1,
   "metadata": {
    "colab": {},
    "colab_type": "code",
    "id": "1I11zJigHylT"
   },
   "outputs": [],
   "source": [
    "# from google.colab import drive\n",
    "# drive.mount('/content/drive')"
   ]
  },
  {
   "cell_type": "code",
   "execution_count": 2,
   "metadata": {
    "colab": {},
    "colab_type": "code",
    "id": "22YFnsZxIEo7"
   },
   "outputs": [],
   "source": [
    "# path = '/content/drive/My Drive/Kuliahh/NLP/'"
   ]
  },
  {
   "cell_type": "code",
   "execution_count": 3,
   "metadata": {
    "colab": {},
    "colab_type": "code",
    "id": "z0n3Hca3NzAf"
   },
   "outputs": [],
   "source": [
    "# # from google.colab import files\n",
    "# # src = list(files.upload().values())[0]\n",
    "# # open(path+'attention.py','wb').write(src)\n",
    "# import attention"
   ]
  },
  {
   "cell_type": "markdown",
   "metadata": {
    "colab_type": "text",
    "id": "WUvTHqPRUFXx"
   },
   "source": [
    "# Import attention.py"
   ]
  },
  {
   "cell_type": "code",
   "execution_count": 4,
   "metadata": {
    "colab": {},
    "colab_type": "code",
    "id": "U9cUYuclPTpC"
   },
   "outputs": [],
   "source": [
    "import attention \n",
    "from attention import AttentionLayer"
   ]
  },
  {
   "cell_type": "markdown",
   "metadata": {
    "colab_type": "text",
    "id": "JUValOzcHtEK"
   },
   "source": [
    "# Impor Library"
   ]
  },
  {
   "cell_type": "code",
   "execution_count": 5,
   "metadata": {
    "_cell_guid": "b1076dfc-b9ad-4769-8c92-a6c4dae69d19",
    "_uuid": "8f2839f25d086af736a60e9eeb907d3b93b6e0e5",
    "colab": {
     "base_uri": "https://localhost:8080/",
     "height": 34
    },
    "colab_type": "code",
    "id": "_Jpu8qLEFxcY",
    "outputId": "34a40ff7-a273-485b-8376-0c8500ec11c9"
   },
   "outputs": [
    {
     "name": "stderr",
     "output_type": "stream",
     "text": [
      "Using TensorFlow backend.\n"
     ]
    }
   ],
   "source": [
    "import numpy as np\n",
    "import pandas as pd \n",
    "import re\n",
    "from bs4 import BeautifulSoup\n",
    "from keras.preprocessing.text import Tokenizer \n",
    "from keras.preprocessing.sequence import pad_sequences\n",
    "from nltk.corpus import stopwords\n",
    "from tensorflow.keras.layers import Input, LSTM, Embedding, Dense, Concatenate, TimeDistributed\n",
    "from tensorflow.keras.models import Model\n",
    "from tensorflow.keras.callbacks import EarlyStopping\n",
    "import warnings\n",
    "pd.set_option(\"display.max_colwidth\", 200)\n",
    "warnings.filterwarnings(\"ignore\")"
   ]
  },
  {
   "cell_type": "markdown",
   "metadata": {
    "colab_type": "text",
    "id": "UVakjZ3oICgx"
   },
   "source": [
    "#Read dataset\n",
    "\n",
    "Dataset ini terdiri dari ulasan makanan enak dari Amazon. Data ini mencakup periode lebih dari 10 tahun, termasuk semua ~ 500.000 ulasan hingga Oktober 2012. Ulasan ini mencakup produk dan informasi pengguna, peringkat, ulasan teks biasa, dan ringkasan. Ini juga termasuk ulasan dari semua kategori Amazon lainnya.\n",
    "\n",
    "Kami akan mengambil sampel 100.000 ulasan untuk mengurangi waktu pelatihan model kami. Jangan ragu untuk menggunakan seluruh dataset untuk melatih model Anda jika mesin Anda memiliki kekuatan komputasi semacam itu."
   ]
  },
  {
   "cell_type": "code",
   "execution_count": 6,
   "metadata": {
    "colab": {},
    "colab_type": "code",
    "id": "wnK5o4Z1Fxcj"
   },
   "outputs": [],
   "source": [
    "# data=pd.read_csv(path+\"/Salinan Reviews.csv\",nrows=100000)\n",
    "data=pd.read_csv(\"Reviews.csv\")"
   ]
  },
  {
   "cell_type": "code",
   "execution_count": 7,
   "metadata": {
    "colab": {
     "base_uri": "https://localhost:8080/",
     "height": 34
    },
    "colab_type": "code",
    "id": "NjMYY70LF7ns",
    "outputId": "b7222970-c640-4c24-a61c-a74d9c56d267"
   },
   "outputs": [
    {
     "data": {
      "text/plain": [
       "(568454, 10)"
      ]
     },
     "execution_count": 7,
     "metadata": {},
     "output_type": "execute_result"
    }
   ],
   "source": [
    "data.shape"
   ]
  },
  {
   "cell_type": "markdown",
   "metadata": {
    "colab_type": "text",
    "id": "kGNQKvCaISIn"
   },
   "source": [
    "# Drop Duplicates dan NA values"
   ]
  },
  {
   "cell_type": "code",
   "execution_count": 8,
   "metadata": {
    "colab": {},
    "colab_type": "code",
    "id": "Cjul88oOFxcr"
   },
   "outputs": [],
   "source": [
    "data.drop_duplicates(subset=['Text'],inplace=True)#dropping duplicates\n",
    "data.dropna(axis=0,inplace=True)#dropping na"
   ]
  },
  {
   "cell_type": "markdown",
   "metadata": {
    "colab_type": "text",
    "id": "qi0xD6BkIWAm"
   },
   "source": [
    "# Informasi tentang dataset\n",
    "\n",
    "Mari kita lihat tipe data dan bentuk dataset"
   ]
  },
  {
   "cell_type": "code",
   "execution_count": 9,
   "metadata": {
    "colab": {
     "base_uri": "https://localhost:8080/",
     "height": 34
    },
    "colab_type": "code",
    "id": "A-QCQdg3GBIq",
    "outputId": "89e919c8-83b9-4c30-e4d4-6f14a91a1457"
   },
   "outputs": [
    {
     "data": {
      "text/plain": [
       "(393565, 10)"
      ]
     },
     "execution_count": 9,
     "metadata": {},
     "output_type": "execute_result"
    }
   ],
   "source": [
    "data.shape"
   ]
  },
  {
   "cell_type": "code",
   "execution_count": 10,
   "metadata": {
    "colab": {
     "base_uri": "https://localhost:8080/",
     "height": 306
    },
    "colab_type": "code",
    "id": "__fy-JxTFxc9",
    "outputId": "883e65b4-979a-4a68-9c43-039f3b0d98fc"
   },
   "outputs": [
    {
     "name": "stdout",
     "output_type": "stream",
     "text": [
      "<class 'pandas.core.frame.DataFrame'>\n",
      "Int64Index: 393565 entries, 0 to 568453\n",
      "Data columns (total 10 columns):\n",
      "Id                        393565 non-null int64\n",
      "ProductId                 393565 non-null object\n",
      "UserId                    393565 non-null object\n",
      "ProfileName               393565 non-null object\n",
      "HelpfulnessNumerator      393565 non-null int64\n",
      "HelpfulnessDenominator    393565 non-null int64\n",
      "Score                     393565 non-null int64\n",
      "Time                      393565 non-null int64\n",
      "Summary                   393565 non-null object\n",
      "Text                      393565 non-null object\n",
      "dtypes: int64(5), object(5)\n",
      "memory usage: 33.0+ MB\n"
     ]
    }
   ],
   "source": [
    "data.info()"
   ]
  },
  {
   "cell_type": "markdown",
   "metadata": {
    "colab_type": "text",
    "id": "r0xLYACiFxdJ"
   },
   "source": [
    "#Preprocessing\n",
    "\n",
    "Melakukan langkah-langkah Preprocessing dasar sangat penting sebelum kami sampai pada bagian pembuatan model. Menggunakan data teks yang tidak beraturan dan tidak bersih adalah langkah yang berpotensi menimbulkan bencana dalam pemrosesan bahasa alami. Jadi pada langkah ini, kami akan membuang semua simbol, karakter, dll yang tidak diinginkan dari teks yang tidak mempengaruhi tujuan masalah yang kami angkat.\n",
    "\n",
    "Berikut ini adalah kamus yang akan kami gunakan untuk memperluas kontraksi:"
   ]
  },
  {
   "cell_type": "code",
   "execution_count": 11,
   "metadata": {
    "colab": {},
    "colab_type": "code",
    "id": "0s6IY-x2FxdL"
   },
   "outputs": [],
   "source": [
    "contraction_mapping = {\"ain't\": \"is not\", \"aren't\": \"are not\",\"can't\": \"cannot\", \"'cause\": \"because\", \"could've\": \"could have\", \"couldn't\": \"could not\",\n",
    "                           \"didn't\": \"did not\",  \"doesn't\": \"does not\", \"don't\": \"do not\", \"hadn't\": \"had not\", \"hasn't\": \"has not\", \"haven't\": \"have not\",\n",
    "                           \"he'd\": \"he would\",\"he'll\": \"he will\", \"he's\": \"he is\", \"how'd\": \"how did\", \"how'd'y\": \"how do you\", \"how'll\": \"how will\", \"how's\": \"how is\",\n",
    "                           \"I'd\": \"I would\", \"I'd've\": \"I would have\", \"I'll\": \"I will\", \"I'll've\": \"I will have\",\"I'm\": \"I am\", \"I've\": \"I have\", \"i'd\": \"i would\",\n",
    "                           \"i'd've\": \"i would have\", \"i'll\": \"i will\",  \"i'll've\": \"i will have\",\"i'm\": \"i am\", \"i've\": \"i have\", \"isn't\": \"is not\", \"it'd\": \"it would\",\n",
    "                           \"it'd've\": \"it would have\", \"it'll\": \"it will\", \"it'll've\": \"it will have\",\"it's\": \"it is\", \"let's\": \"let us\", \"ma'am\": \"madam\",\n",
    "                           \"mayn't\": \"may not\", \"might've\": \"might have\",\"mightn't\": \"might not\",\"mightn't've\": \"might not have\", \"must've\": \"must have\",\n",
    "                           \"mustn't\": \"must not\", \"mustn't've\": \"must not have\", \"needn't\": \"need not\", \"needn't've\": \"need not have\",\"o'clock\": \"of the clock\",\n",
    "                           \"oughtn't\": \"ought not\", \"oughtn't've\": \"ought not have\", \"shan't\": \"shall not\", \"sha'n't\": \"shall not\", \"shan't've\": \"shall not have\",\n",
    "                           \"she'd\": \"she would\", \"she'd've\": \"she would have\", \"she'll\": \"she will\", \"she'll've\": \"she will have\", \"she's\": \"she is\",\n",
    "                           \"should've\": \"should have\", \"shouldn't\": \"should not\", \"shouldn't've\": \"should not have\", \"so've\": \"so have\",\"so's\": \"so as\",\n",
    "                           \"this's\": \"this is\",\"that'd\": \"that would\", \"that'd've\": \"that would have\", \"that's\": \"that is\", \"there'd\": \"there would\",\n",
    "                           \"there'd've\": \"there would have\", \"there's\": \"there is\", \"here's\": \"here is\",\"they'd\": \"they would\", \"they'd've\": \"they would have\",\n",
    "                           \"they'll\": \"they will\", \"they'll've\": \"they will have\", \"they're\": \"they are\", \"they've\": \"they have\", \"to've\": \"to have\",\n",
    "                           \"wasn't\": \"was not\", \"we'd\": \"we would\", \"we'd've\": \"we would have\", \"we'll\": \"we will\", \"we'll've\": \"we will have\", \"we're\": \"we are\",\n",
    "                           \"we've\": \"we have\", \"weren't\": \"were not\", \"what'll\": \"what will\", \"what'll've\": \"what will have\", \"what're\": \"what are\",\n",
    "                           \"what's\": \"what is\", \"what've\": \"what have\", \"when's\": \"when is\", \"when've\": \"when have\", \"where'd\": \"where did\", \"where's\": \"where is\",\n",
    "                           \"where've\": \"where have\", \"who'll\": \"who will\", \"who'll've\": \"who will have\", \"who's\": \"who is\", \"who've\": \"who have\",\n",
    "                           \"why's\": \"why is\", \"why've\": \"why have\", \"will've\": \"will have\", \"won't\": \"will not\", \"won't've\": \"will not have\",\n",
    "                           \"would've\": \"would have\", \"wouldn't\": \"would not\", \"wouldn't've\": \"would not have\", \"y'all\": \"you all\",\n",
    "                           \"y'all'd\": \"you all would\",\"y'all'd've\": \"you all would have\",\"y'all're\": \"you all are\",\"y'all've\": \"you all have\",\n",
    "                           \"you'd\": \"you would\", \"you'd've\": \"you would have\", \"you'll\": \"you will\", \"you'll've\": \"you will have\",\n",
    "                           \"you're\": \"you are\", \"you've\": \"you have\"}"
   ]
  },
  {
   "cell_type": "markdown",
   "metadata": {
    "colab_type": "text",
    "id": "7rvWj-_lVq7q"
   },
   "source": [
    "### **Download stopwords dari library nltk**"
   ]
  },
  {
   "cell_type": "code",
   "execution_count": 12,
   "metadata": {
    "colab": {
     "base_uri": "https://localhost:8080/",
     "height": 68
    },
    "colab_type": "code",
    "id": "qwi-CnyDKVxB",
    "outputId": "7b1c62c7-9e2d-40d3-8b0e-e114301d9083"
   },
   "outputs": [
    {
     "name": "stderr",
     "output_type": "stream",
     "text": [
      "[nltk_data] Downloading package stopwords to\n",
      "[nltk_data]     C:\\Users\\user\\AppData\\Roaming\\nltk_data...\n",
      "[nltk_data]   Package stopwords is already up-to-date!\n"
     ]
    },
    {
     "data": {
      "text/plain": [
       "True"
      ]
     },
     "execution_count": 12,
     "metadata": {},
     "output_type": "execute_result"
    }
   ],
   "source": [
    "import nltk\n",
    "nltk.download('stopwords')"
   ]
  },
  {
   "cell_type": "markdown",
   "metadata": {
    "colab_type": "text",
    "id": "2JFRXFHmI7Mj"
   },
   "source": [
    "Kami akan melakukan sedikit pemrosesan awal untuk data kami:\n",
    "\n",
    "1. Konversikan semuanya menjadi huruf kecil\n",
    "\n",
    "2. Hapus tag HTML\n",
    "\n",
    "3. Pemetaan kontraksi\n",
    "\n",
    "4. Hapus (‘s)\n",
    "\n",
    "5. Hapus teks apa pun di dalam tanda kurung ()\n",
    "\n",
    "6. Hilangkan tanda baca dan karakter khusus\n",
    "\n",
    "7. Hapus stopwords\n",
    "\n",
    "8. Hapus kata-kata pendek\n",
    "\n",
    "berikut fungsi yang kami gunakan:"
   ]
  },
  {
   "cell_type": "code",
   "execution_count": 13,
   "metadata": {
    "colab": {},
    "colab_type": "code",
    "id": "XZr-u3OEFxdT"
   },
   "outputs": [],
   "source": [
    "stop_words = set(stopwords.words('english')) \n",
    "\n",
    "def text_cleaner(text,num):\n",
    "    newString = text.lower()\n",
    "    newString = BeautifulSoup(newString, \"lxml\").text\n",
    "    newString = re.sub(r'\\([^)]*\\)', '', newString)\n",
    "    newString = re.sub('\"','', newString)\n",
    "    newString = ' '.join([contraction_mapping[t] if t in contraction_mapping else t for t in newString.split(\" \")])    \n",
    "    newString = re.sub(r\"'s\\b\",\"\",newString)\n",
    "    newString = re.sub(\"[^a-zA-Z]\", \" \", newString) \n",
    "    newString = re.sub('[m]{2,}', 'mm', newString)\n",
    "    if(num==0):\n",
    "        tokens = [w for w in newString.split() if not w in stop_words]\n",
    "    else:\n",
    "        tokens=newString.split()\n",
    "    long_words=[]\n",
    "    for i in tokens:\n",
    "        if len(i)>1:                                                 # menghapus kata - kata pendek\n",
    "            long_words.append(i)   \n",
    "    return (\" \".join(long_words)).strip()"
   ]
  },
  {
   "cell_type": "code",
   "execution_count": 14,
   "metadata": {
    "colab": {},
    "colab_type": "code",
    "id": "A2QAeCHWFxdY"
   },
   "outputs": [],
   "source": [
    "#memanggil fungsi\n",
    "cleaned_text = []\n",
    "for t in data['Text']:\n",
    "    cleaned_text.append(text_cleaner(t,0)) "
   ]
  },
  {
   "cell_type": "markdown",
   "metadata": {
    "colab_type": "text",
    "id": "snRZY8wjLao2"
   },
   "source": [
    "### **Melihat ulasan 5 pelanggan**"
   ]
  },
  {
   "cell_type": "code",
   "execution_count": 15,
   "metadata": {
    "colab": {
     "base_uri": "https://localhost:8080/",
     "height": 122
    },
    "colab_type": "code",
    "id": "NCAIkhWbFxdh",
    "outputId": "a8692a83-969a-4973-afb6-853a97f38152"
   },
   "outputs": [
    {
     "data": {
      "text/plain": [
       "['bought several vitality canned dog food products found good quality product looks like stew processed meat smells better labrador finicky appreciates product better',\n",
       " 'product arrived labeled jumbo salted peanuts peanuts actually small sized unsalted sure error vendor intended represent product jumbo',\n",
       " 'confection around centuries light pillowy citrus gelatin nuts case filberts cut tiny squares liberally coated powdered sugar tiny mouthful heaven chewy flavorful highly recommend yummy treat familiar story lewis lion witch wardrobe treat seduces edmund selling brother sisters witch',\n",
       " 'looking secret ingredient robitussin believe found got addition root beer extract ordered made cherry soda flavor medicinal',\n",
       " 'great taffy great price wide assortment yummy taffy delivery quick taffy lover deal']"
      ]
     },
     "execution_count": 15,
     "metadata": {},
     "output_type": "execute_result"
    }
   ],
   "source": [
    "cleaned_text[:5]  "
   ]
  },
  {
   "cell_type": "code",
   "execution_count": 16,
   "metadata": {
    "colab": {},
    "colab_type": "code",
    "id": "GsRXocxoFxd-"
   },
   "outputs": [],
   "source": [
    "cleaned_summary = []\n",
    "for t in data['Summary']:\n",
    "    cleaned_summary.append(text_cleaner(t,1))"
   ]
  },
  {
   "cell_type": "markdown",
   "metadata": {
    "colab_type": "text",
    "id": "oZeD0gs6Lnb-"
   },
   "source": [
    "### **Melihat 10 ringkasan pertama yang telah dilakukan preprocessing**"
   ]
  },
  {
   "cell_type": "code",
   "execution_count": 17,
   "metadata": {
    "colab": {
     "base_uri": "https://localhost:8080/",
     "height": 187
    },
    "colab_type": "code",
    "id": "jQJdZcAzFxee",
    "outputId": "057a340c-337c-485c-ad2e-45b077766975"
   },
   "outputs": [
    {
     "data": {
      "text/plain": [
       "['good quality dog food',\n",
       " 'not as advertised',\n",
       " 'delight says it all',\n",
       " 'cough medicine',\n",
       " 'great taffy',\n",
       " 'nice taffy',\n",
       " 'great just as good as the expensive brands',\n",
       " 'wonderful tasty taffy',\n",
       " 'yay barley',\n",
       " 'healthy dog food']"
      ]
     },
     "execution_count": 17,
     "metadata": {},
     "output_type": "execute_result"
    }
   ],
   "source": [
    "cleaned_summary[:10]"
   ]
  },
  {
   "cell_type": "code",
   "execution_count": 18,
   "metadata": {
    "colab": {},
    "colab_type": "code",
    "id": "L1zLpnqsFxey"
   },
   "outputs": [],
   "source": [
    "data['cleaned_text']=cleaned_text\n",
    "data['cleaned_summary']=cleaned_summary"
   ]
  },
  {
   "cell_type": "markdown",
   "metadata": {
    "colab_type": "text",
    "id": "KT_D2cLiLy77"
   },
   "source": [
    "# Drop empty rows"
   ]
  },
  {
   "cell_type": "code",
   "execution_count": 19,
   "metadata": {
    "colab": {},
    "colab_type": "code",
    "id": "sYK390unFxfA"
   },
   "outputs": [],
   "source": [
    "data.replace('', np.nan, inplace=True)\n",
    "data.dropna(axis=0,inplace=True)"
   ]
  },
  {
   "cell_type": "markdown",
   "metadata": {
    "colab_type": "text",
    "id": "Vm8Fk2TCL7Sp"
   },
   "source": [
    "# Memahami distribusi kata dari urutan ulasan\n",
    "\n",
    "Di sini, kami akan menganalisis panjang ulasan dan ringkasan untuk mendapatkan ide keseluruhan tentang distribusi panjang teks. Ini akan membantu kami memperbaiki panjang maksimum urutan ulasan:"
   ]
  },
  {
   "cell_type": "code",
   "execution_count": 20,
   "metadata": {
    "colab": {
     "base_uri": "https://localhost:8080/",
     "height": 281
    },
    "colab_type": "code",
    "id": "MdF76AHHFxgw",
    "outputId": "232f23be-7f05-437f-dd1b-018f6f6485ec"
   },
   "outputs": [
    {
     "data": {
      "text/plain": [
       "<Figure size 640x480 with 2 Axes>"
      ]
     },
     "metadata": {},
     "output_type": "display_data"
    }
   ],
   "source": [
    "import matplotlib.pyplot as plt\n",
    "\n",
    "text_word_count = []\n",
    "summary_word_count = []\n",
    "\n",
    "# mengisi list dengan panjang kalimat\n",
    "for i in data['cleaned_text']:\n",
    "      text_word_count.append(len(i.split()))\n",
    "\n",
    "for i in data['cleaned_summary']:\n",
    "      summary_word_count.append(len(i.split()))\n",
    "\n",
    "length_df = pd.DataFrame({'text':text_word_count, 'summary':summary_word_count})\n",
    "\n",
    "length_df.hist(bins = 30)\n",
    "plt.show()"
   ]
  },
  {
   "cell_type": "markdown",
   "metadata": {
    "colab_type": "text",
    "id": "QwdSGIhGMEbz"
   },
   "source": [
    "Kami di sini dapat memperbaiki panjang maksimum ringkasan hingga 8 karena itu tampaknya menjadi panjang ringkasan mayoritas.\n",
    "\n",
    "kami mencoba memahami proporsi panjang ringkasan di bawah 8"
   ]
  },
  {
   "cell_type": "code",
   "execution_count": 21,
   "metadata": {
    "colab": {
     "base_uri": "https://localhost:8080/",
     "height": 34
    },
    "colab_type": "code",
    "id": "7JRjwdIOFxg3",
    "outputId": "a7f5cd15-a0fc-4529-8e27-ca565883551a"
   },
   "outputs": [
    {
     "name": "stdout",
     "output_type": "stream",
     "text": [
      "0.9458130834941876\n"
     ]
    }
   ],
   "source": [
    "cnt=0\n",
    "for i in data['cleaned_summary']:\n",
    "    if(len(i.split())<=8):\n",
    "        cnt=cnt+1\n",
    "print(cnt/len(data['cleaned_summary']))"
   ]
  },
  {
   "cell_type": "markdown",
   "metadata": {
    "colab_type": "text",
    "id": "yYB4Ga9KMjEu"
   },
   "source": [
    "Kami mengamati bahwa 94% dari ringkasan memiliki panjang di bawah 8. Jadi, kami dapat memperbaiki panjang maksimum ringkasan ke 8.\n",
    "\n",
    "Mari kita perbaiki panjang tinjauan maksimum menjadi 30"
   ]
  },
  {
   "cell_type": "code",
   "execution_count": 22,
   "metadata": {
    "colab": {},
    "colab_type": "code",
    "id": "ZKD5VOWqFxhC"
   },
   "outputs": [],
   "source": [
    "max_text_len=30\n",
    "max_summary_len=8"
   ]
  },
  {
   "cell_type": "markdown",
   "metadata": {
    "colab_type": "text",
    "id": "E6d48E-8M4VO"
   },
   "source": [
    "Selanjutnya kami memilih ulasan dan ringkasan yang panjangnya di bawah atau sama dengan **max_text_len** dan **max_summary_len**"
   ]
  },
  {
   "cell_type": "code",
   "execution_count": 23,
   "metadata": {
    "colab": {},
    "colab_type": "code",
    "id": "yY0tEJP0FxhI"
   },
   "outputs": [],
   "source": [
    "cleaned_text =np.array(data['cleaned_text'])\n",
    "cleaned_summary=np.array(data['cleaned_summary'])\n",
    "\n",
    "short_text=[]\n",
    "short_summary=[]\n",
    "\n",
    "for i in range(len(cleaned_text)):\n",
    "    if(len(cleaned_summary[i].split())<=max_summary_len and len(cleaned_text[i].split())<=max_text_len):\n",
    "        short_text.append(cleaned_text[i])\n",
    "        short_summary.append(cleaned_summary[i])\n",
    "        \n",
    "df=pd.DataFrame({'text':short_text,'summary':short_summary})"
   ]
  },
  {
   "cell_type": "markdown",
   "metadata": {
    "colab_type": "text",
    "id": "tR1uh8xSNUma"
   },
   "source": [
    "Untuk menambahkan **START** dan **END** token khusus di awal dan akhir ringkasan. Di sini, kami telah memilih **sostok** dan **eostok** sebagai token START dan END\n",
    "\n",
    "Sebelumnya kami memastikan bahwa token khusus yang dipilih tidak pernah muncul dalam ringkasan"
   ]
  },
  {
   "cell_type": "code",
   "execution_count": 24,
   "metadata": {
    "colab": {},
    "colab_type": "code",
    "id": "EwLUH78CFxhg"
   },
   "outputs": [],
   "source": [
    "df['summary'] = df['summary'].apply(lambda x : 'sostok '+ x + ' eostok')"
   ]
  },
  {
   "cell_type": "markdown",
   "metadata": {
    "colab_type": "text",
    "id": "1GlcX4RFOh13"
   },
   "source": [
    "Sebelum kami membangun model, kami perlu membagi dataset kami menjadi set train dan validation. Kami akan menggunakan porsi 90% dari dataset sebagai data train dan 10% yang tersisa sebagai data validation (set holdout):"
   ]
  },
  {
   "cell_type": "code",
   "execution_count": 25,
   "metadata": {
    "colab": {},
    "colab_type": "code",
    "id": "RakakKHcFxhl"
   },
   "outputs": [],
   "source": [
    "from sklearn.model_selection import train_test_split\n",
    "x_tr,x_val,y_tr,y_val=train_test_split(np.array(df['text']),np.array(df['summary']),test_size=0.2,random_state=0,shuffle=True) "
   ]
  },
  {
   "cell_type": "markdown",
   "metadata": {
    "colab_type": "text",
    "id": "Vq1mqyOHOtIl"
   },
   "source": [
    "#Mempersiapkan Tokenizer\n",
    "\n",
    "Tokenizer membangun kosakata dan mengubah urutan kata menjadi urutan bilangan bulat. Membuat tokenizer untuk teks dan ringkasan:\n",
    "\n",
    "#Text Tokenizer"
   ]
  },
  {
   "cell_type": "code",
   "execution_count": 26,
   "metadata": {
    "colab": {},
    "colab_type": "code",
    "id": "oRHTgX6hFxhq"
   },
   "outputs": [],
   "source": [
    "from keras.preprocessing.text import Tokenizer \n",
    "from keras.preprocessing.sequence import pad_sequences\n",
    "\n",
    "#mempersiapkan tokenizer untuk ulasan pada data training\n",
    "x_tokenizer = Tokenizer() \n",
    "x_tokenizer.fit_on_texts(list(x_tr))"
   ]
  },
  {
   "cell_type": "markdown",
   "metadata": {
    "colab_type": "text",
    "id": "RzvLwYL_PDcx"
   },
   "source": [
    "# Kata - Kata Langka dan Cakupannya\n",
    "\n",
    "Melihat proporsi kata-kata langka dan cakupan totalnya di seluruh teks\n",
    "\n",
    "Di sini, kami mendefinisikan threshold menjadi 4 yang berarti kata yang hitungnya di bawah 4 dianggap sebagai kata yang langka"
   ]
  },
  {
   "cell_type": "code",
   "execution_count": 27,
   "metadata": {
    "colab": {
     "base_uri": "https://localhost:8080/",
     "height": 51
    },
    "colab_type": "code",
    "id": "y8KronV2Fxhx",
    "outputId": "9df9ad9f-199d-4066-d0ae-937d78c40b27"
   },
   "outputs": [
    {
     "name": "stdout",
     "output_type": "stream",
     "text": [
      "% kata-kata langka dalam kosa kata: 67.82696333049073\n",
      "Cakupan total kata-kata langka: 1.5241622966675232\n"
     ]
    }
   ],
   "source": [
    "thresh=4\n",
    "\n",
    "cnt=0\n",
    "tot_cnt=0\n",
    "freq=0\n",
    "tot_freq=0\n",
    "\n",
    "for key,value in x_tokenizer.word_counts.items():\n",
    "    tot_cnt=tot_cnt+1\n",
    "    tot_freq=tot_freq+value\n",
    "    if(value<thresh):\n",
    "        cnt=cnt+1\n",
    "        freq=freq+value\n",
    "    \n",
    "print(\"% kata-kata langka dalam kosa kata:\",(cnt/tot_cnt)*100)\n",
    "print(\"Cakupan total kata-kata langka:\",(freq/tot_freq)*100)"
   ]
  },
  {
   "cell_type": "markdown",
   "metadata": {
    "colab_type": "text",
    "id": "So-J-5kzQIeO"
   },
   "source": [
    "**Sebagai catatan kami**:\n",
    "\n",
    "\n",
    "* **tot_cnt** memberikan ukuran kosakata (yang berarti setiap kata unik dalam teks)\n",
    " \n",
    "* **cnt** memberi kami no. kata-kata langka yang jumlahnya di bawah ambang batas\n",
    "\n",
    "* **tot_cnt - cnt** memberi kami kata paling umum\n",
    "\n",
    "Selanjutnya kami mendefinisikan tokenizer dengan kata-kata paling umum untuk ulasan."
   ]
  },
  {
   "cell_type": "code",
   "execution_count": 28,
   "metadata": {
    "colab": {},
    "colab_type": "code",
    "id": "J2giEsF3Fxh3"
   },
   "outputs": [],
   "source": [
    "# menyiapkan tokenizer untuk ulasan tentang data pelatihan\n",
    "x_tokenizer = Tokenizer(num_words=tot_cnt-cnt) \n",
    "x_tokenizer.fit_on_texts(list(x_tr))\n",
    "\n",
    "# ubah urutan teks ke dalam urutan integer\n",
    "x_tr_seq    =   x_tokenizer.texts_to_sequences(x_tr) \n",
    "x_val_seq   =   x_tokenizer.texts_to_sequences(x_val)\n",
    "\n",
    "# padding nol hingga panjang maksimum\n",
    "x_tr    =   pad_sequences(x_tr_seq,  maxlen=max_text_len, padding='post')\n",
    "x_val   =   pad_sequences(x_val_seq, maxlen=max_text_len, padding='post')\n",
    "\n",
    "# ukuran kosakata (+1 untuk padding token)\n",
    "x_voc   =  x_tokenizer.num_words + 1"
   ]
  },
  {
   "cell_type": "code",
   "execution_count": 29,
   "metadata": {
    "colab": {
     "base_uri": "https://localhost:8080/",
     "height": 34
    },
    "colab_type": "code",
    "id": "DCbGMsm4FxiA",
    "outputId": "000a8ec3-4fae-4072-e825-96b5e9464efc"
   },
   "outputs": [
    {
     "data": {
      "text/plain": [
       "16601"
      ]
     },
     "execution_count": 29,
     "metadata": {},
     "output_type": "execute_result"
    }
   ],
   "source": [
    "x_voc"
   ]
  },
  {
   "cell_type": "markdown",
   "metadata": {
    "colab_type": "text",
    "id": "uQfKP3sqRxi9"
   },
   "source": [
    "#Summary Tokenizer"
   ]
  },
  {
   "cell_type": "code",
   "execution_count": 30,
   "metadata": {
    "colab": {},
    "colab_type": "code",
    "id": "eRHqyBkBFxiJ"
   },
   "outputs": [],
   "source": [
    "# menyiapkan tokenizer untuk ulasan tentang data training\n",
    "y_tokenizer = Tokenizer()   \n",
    "y_tokenizer.fit_on_texts(list(y_tr))"
   ]
  },
  {
   "cell_type": "markdown",
   "metadata": {
    "colab_type": "text",
    "id": "KInA6O6ZSkJz"
   },
   "source": [
    "# Kata - Kata Langka dan Cakupannya\n",
    "\n",
    "Mari kita lihat proporsi kata-kata langka dan cakupan totalnya di seluruh ringkasan\n",
    "\n",
    "Di sini, kami mendefinisikan treshold menjadi 6 yang berarti kata yang hitungnya di bawah 6 dianggap sebagai kata yang langka"
   ]
  },
  {
   "cell_type": "code",
   "execution_count": 31,
   "metadata": {
    "colab": {
     "base_uri": "https://localhost:8080/",
     "height": 51
    },
    "colab_type": "code",
    "id": "yzE5OiRLFxiM",
    "outputId": "aba53e92-a5f1-4cb3-e409-372effe2e63f"
   },
   "outputs": [
    {
     "name": "stdout",
     "output_type": "stream",
     "text": [
      "% kata-kata langka dalam kosa kata: 76.3145861911294\n",
      "Cakupan total kata-kata langka: 2.772100940084322\n"
     ]
    }
   ],
   "source": [
    "thresh=6\n",
    "\n",
    "cnt=0\n",
    "tot_cnt=0\n",
    "freq=0\n",
    "tot_freq=0\n",
    "\n",
    "for key,value in y_tokenizer.word_counts.items():\n",
    "    tot_cnt=tot_cnt+1\n",
    "    tot_freq=tot_freq+value\n",
    "    if(value<thresh):\n",
    "        cnt=cnt+1\n",
    "        freq=freq+value\n",
    "    \n",
    "print(\"% kata-kata langka dalam kosa kata:\",(cnt/tot_cnt)*100)\n",
    "print(\"Cakupan total kata-kata langka:\",(freq/tot_freq)*100)"
   ]
  },
  {
   "cell_type": "markdown",
   "metadata": {
    "colab_type": "text",
    "id": "0PBhzKuRSw_9"
   },
   "source": [
    "Selanjutnya kami akan mendefinisikan tokenizer dengan kata paling umum untuk ringkasan."
   ]
  },
  {
   "cell_type": "code",
   "execution_count": 32,
   "metadata": {
    "colab": {},
    "colab_type": "code",
    "id": "-fswLvIgFxiR"
   },
   "outputs": [],
   "source": [
    "# menyiapkan tokenizer untuk ulasan tentang data pelatihan\n",
    "y_tokenizer = Tokenizer(num_words=tot_cnt-cnt) \n",
    "y_tokenizer.fit_on_texts(list(y_tr))\n",
    "\n",
    "# ubah urutan teks ke dalam urutan integer\n",
    "y_tr_seq    =   y_tokenizer.texts_to_sequences(y_tr) \n",
    "y_val_seq   =   y_tokenizer.texts_to_sequences(y_val) \n",
    "\n",
    "# beri padding nol hingga panjang maksimum\n",
    "y_tr    =   pad_sequences(y_tr_seq, maxlen=max_summary_len, padding='post')\n",
    "y_val   =   pad_sequences(y_val_seq, maxlen=max_summary_len, padding='post')\n",
    "\n",
    "# ukuran kosakata\n",
    "y_voc  =   y_tokenizer.num_words +1"
   ]
  },
  {
   "cell_type": "markdown",
   "metadata": {
    "colab_type": "text",
    "id": "qqwDUT5oTFmn"
   },
   "source": [
    "Kemudian kami memeriksa apakah jumlah token awal kata sama dengan panjang data pelatihan"
   ]
  },
  {
   "cell_type": "code",
   "execution_count": 33,
   "metadata": {
    "colab": {
     "base_uri": "https://localhost:8080/",
     "height": 34
    },
    "colab_type": "code",
    "id": "pR8IX9FRFxiY",
    "outputId": "b46c6637-a84b-4e54-a8d2-5c1ebc067d46"
   },
   "outputs": [
    {
     "data": {
      "text/plain": [
       "(171024, 171024)"
      ]
     },
     "execution_count": 33,
     "metadata": {},
     "output_type": "execute_result"
    }
   ],
   "source": [
    "y_tokenizer.word_counts['sostok'],len(y_tr)   "
   ]
  },
  {
   "cell_type": "markdown",
   "metadata": {
    "colab_type": "text",
    "id": "LVFhFVguTTtw"
   },
   "source": [
    "Di sini, saya menghapus baris yang hanya berisi token **START** dan **END**"
   ]
  },
  {
   "cell_type": "code",
   "execution_count": 34,
   "metadata": {
    "colab": {},
    "colab_type": "code",
    "id": "kZ-vW82sFxih"
   },
   "outputs": [],
   "source": [
    "ind=[]\n",
    "for i in range(len(y_tr)):\n",
    "    cnt=0\n",
    "    for j in y_tr[i]:\n",
    "        if j!=0:\n",
    "            cnt=cnt+1\n",
    "    if(cnt==2):\n",
    "        ind.append(i)\n",
    "\n",
    "y_tr=np.delete(y_tr,ind, axis=0)\n",
    "x_tr=np.delete(x_tr,ind, axis=0)"
   ]
  },
  {
   "cell_type": "code",
   "execution_count": 35,
   "metadata": {
    "colab": {},
    "colab_type": "code",
    "id": "cx5NISuMFxik"
   },
   "outputs": [],
   "source": [
    "ind=[]\n",
    "for i in range(len(y_val)):\n",
    "    cnt=0\n",
    "    for j in y_val[i]:\n",
    "        if j!=0:\n",
    "            cnt=cnt+1\n",
    "    if(cnt==2):\n",
    "        ind.append(i)\n",
    "\n",
    "y_val=np.delete(y_val,ind, axis=0)\n",
    "x_val=np.delete(x_val,ind, axis=0)"
   ]
  },
  {
   "cell_type": "markdown",
   "metadata": {
    "colab_type": "text",
    "id": "wOtlDcthFxip"
   },
   "source": [
    "# Membangun model\n",
    "\n",
    "Step paling penting sebelum melakukan training data adalah membangun model berikut kami meringkas sedikit tentang model yang kami gunakan.\n",
    "\n",
    "**Return Sequences = True**: Ketika parameter sequences return diatur ke True, LSTM menghasilkan status hidden dan status sel untuk setiap catatan waktu\n",
    "\n",
    "**Return State = True**: Ketika kondisi pengembalian = True, LSTM menghasilkan status hidden dan status sel dari catatan waktu terakhir saja\n",
    "\n",
    "**Initial State**: Ini digunakan untuk menginisialisasi status internal LSTM untuk catatan waktu pertama\n",
    "\n",
    "**Stacked LSTM**: Tumpukan LSTM memiliki beberapa lapisan LSTM yang saling bertumpuk.\n",
    "\n",
    "Ini mengarah pada representasi urutan yang lebih baik. Kami bisa bereksperimen dengan banyak lapisan LSTM yang ditumpuk satu sama lain.\n",
    "\n",
    "Di sini, kami membangun LSTM 3 susun untuk pembuat encoder:"
   ]
  },
  {
   "cell_type": "code",
   "execution_count": 36,
   "metadata": {
    "colab": {
     "base_uri": "https://localhost:8080/",
     "height": 595
    },
    "colab_type": "code",
    "id": "zXef38nBFxir",
    "outputId": "f2465e3d-39d8-42f3-8cda-56b30de4aff3"
   },
   "outputs": [
    {
     "name": "stdout",
     "output_type": "stream",
     "text": [
      "Model: \"model\"\n",
      "__________________________________________________________________________________________________\n",
      "Layer (type)                    Output Shape         Param #     Connected to                     \n",
      "==================================================================================================\n",
      "input_1 (InputLayer)            [(None, 30)]         0                                            \n",
      "__________________________________________________________________________________________________\n",
      "embedding (Embedding)           (None, 30, 50)       830050      input_1[0][0]                    \n",
      "__________________________________________________________________________________________________\n",
      "lstm (LSTM)                     [(None, 30, 150), (N 120600      embedding[0][0]                  \n",
      "__________________________________________________________________________________________________\n",
      "input_2 (InputLayer)            [(None, None)]       0                                            \n",
      "__________________________________________________________________________________________________\n",
      "lstm_1 (LSTM)                   [(None, 30, 150), (N 180600      lstm[0][0]                       \n",
      "__________________________________________________________________________________________________\n",
      "embedding_1 (Embedding)         (None, None, 50)     233150      input_2[0][0]                    \n",
      "__________________________________________________________________________________________________\n",
      "lstm_2 (LSTM)                   [(None, 30, 150), (N 180600      lstm_1[0][0]                     \n",
      "__________________________________________________________________________________________________\n",
      "lstm_3 (LSTM)                   [(None, None, 150),  120600      embedding_1[0][0]                \n",
      "                                                                 lstm_2[0][1]                     \n",
      "                                                                 lstm_2[0][2]                     \n",
      "__________________________________________________________________________________________________\n",
      "attention_layer (AttentionLayer ((None, None, 150),  45150       lstm_2[0][0]                     \n",
      "                                                                 lstm_3[0][0]                     \n",
      "__________________________________________________________________________________________________\n",
      "concat_layer (Concatenate)      (None, None, 300)    0           lstm_3[0][0]                     \n",
      "                                                                 attention_layer[0][0]            \n",
      "__________________________________________________________________________________________________\n",
      "time_distributed (TimeDistribut (None, None, 4663)   1403563     concat_layer[0][0]               \n",
      "==================================================================================================\n",
      "Total params: 3,114,313\n",
      "Trainable params: 3,114,313\n",
      "Non-trainable params: 0\n",
      "__________________________________________________________________________________________________\n"
     ]
    }
   ],
   "source": [
    "from tensorflow.keras import backend as K \n",
    "K.clear_session()\n",
    "\n",
    "# latent_dim = 300\n",
    "# embedding_dim=100\n",
    "\n",
    "latent_dim = 150\n",
    "embedding_dim = 50\n",
    "\n",
    "# Encoder\n",
    "encoder_inputs = Input(shape=(max_text_len,))\n",
    "\n",
    "#embedding layer\n",
    "enc_emb =  Embedding(x_voc, embedding_dim,trainable=True)(encoder_inputs)\n",
    "\n",
    "#encoder lstm 1\n",
    "encoder_lstm1 = LSTM(latent_dim,return_sequences=True,return_state=True,dropout=0.4,recurrent_dropout=0.4)\n",
    "encoder_output1, state_h1, state_c1 = encoder_lstm1(enc_emb)\n",
    "\n",
    "#encoder lstm 2\n",
    "encoder_lstm2 = LSTM(latent_dim,return_sequences=True,return_state=True,dropout=0.4,recurrent_dropout=0.4)\n",
    "encoder_output2, state_h2, state_c2 = encoder_lstm2(encoder_output1)\n",
    "\n",
    "#encoder lstm 3\n",
    "encoder_lstm3=LSTM(latent_dim, return_state=True, return_sequences=True,dropout=0.4,recurrent_dropout=0.4)\n",
    "encoder_outputs, state_h, state_c= encoder_lstm3(encoder_output2)\n",
    "\n",
    "# Membuat decoder, using `encoder_states` sebagai initial state.\n",
    "decoder_inputs = Input(shape=(None,))\n",
    "\n",
    "#embedding layer\n",
    "dec_emb_layer = Embedding(y_voc, embedding_dim,trainable=True)\n",
    "dec_emb = dec_emb_layer(decoder_inputs)\n",
    "\n",
    "decoder_lstm = LSTM(latent_dim, return_sequences=True, return_state=True,dropout=0.4,recurrent_dropout=0.2)\n",
    "decoder_outputs,decoder_fwd_state, decoder_back_state = decoder_lstm(dec_emb,initial_state=[state_h, state_c])\n",
    "\n",
    "# Attention layer\n",
    "attn_layer = AttentionLayer(name='attention_layer')\n",
    "attn_out, attn_states = attn_layer([encoder_outputs, decoder_outputs])\n",
    "\n",
    "# Menggabungkan attention input dan decoder output LSTM\n",
    "decoder_concat_input = Concatenate(axis=-1, name='concat_layer')([decoder_outputs, attn_out])\n",
    "\n",
    "#dense layer\n",
    "decoder_dense =  TimeDistributed(Dense(y_voc, activation='softmax'))\n",
    "decoder_outputs = decoder_dense(decoder_concat_input)\n",
    "\n",
    "# mendefinisikan model \n",
    "model = Model([encoder_inputs, decoder_inputs], decoder_outputs)\n",
    "\n",
    "model.summary() "
   ]
  },
  {
   "cell_type": "markdown",
   "metadata": {
    "colab_type": "text",
    "id": "0ZVlfRuMUcoP"
   },
   "source": [
    "Kami di sini menggunakan `sparse_categorical_crossentropy` sebagai fungsi loss karena fungsi tersebut mengubah urutan integer ke vektor one-hot dengan cepat. Dan menurut literatur hal mengatasi dapat masalah memori."
   ]
  },
  {
   "cell_type": "code",
   "execution_count": 37,
   "metadata": {
    "colab": {},
    "colab_type": "code",
    "id": "Lwfi1Fm8Fxiz"
   },
   "outputs": [],
   "source": [
    "model.compile(optimizer='rmsprop', loss='sparse_categorical_crossentropy')"
   ]
  },
  {
   "cell_type": "markdown",
   "metadata": {
    "colab_type": "text",
    "id": "p0ykDbxfUhyw"
   },
   "source": [
    "Konsep `EarlyStopping` kami digunakan untuk menghentikan training jaringan saraf yang kami buat pada waktu yang tepat dengan parameter metrik yang kami tentukan. Di sini kami menggunakan validation loss (val_loss) sebagai parameter `EarlyStopping` yang kami buat. Model kami akan menghentikan proses training setelah validation loss meningkat:"
   ]
  },
  {
   "cell_type": "code",
   "execution_count": 38,
   "metadata": {
    "colab": {},
    "colab_type": "code",
    "id": "s-A3J92MUljB"
   },
   "outputs": [],
   "source": [
    "es = EarlyStopping(monitor='val_loss', mode='min', verbose=2,patience=2)"
   ]
  },
  {
   "cell_type": "markdown",
   "metadata": {
    "colab_type": "text",
    "id": "Mw6CVECaUq5b"
   },
   "source": [
    "Step terakhir adalah training model pada ukuran batch 128 dan memvalidasinya pada set holdout (yang merupakan 10% dari dataset kami):"
   ]
  },
  {
   "cell_type": "code",
   "execution_count": 39,
   "metadata": {},
   "outputs": [],
   "source": [
    "from IPython.display import display\n",
    "# from PIL import Image\n",
    "import time"
   ]
  },
  {
   "cell_type": "code",
   "execution_count": 40,
   "metadata": {},
   "outputs": [
    {
     "name": "stdout",
     "output_type": "stream",
     "text": [
      "Train on 168344 samples, validate on 42075 samples\n",
      "Epoch 1/50\n",
      "168344/168344 [==============================] - 173s 1ms/sample - loss: 2.8416 - val_loss: 2.6146\n",
      "Epoch 2/50\n",
      "168344/168344 [==============================] - 164s 973us/sample - loss: 2.5436 - val_loss: 2.4522\n",
      "Epoch 3/50\n",
      "168344/168344 [==============================] - 164s 973us/sample - loss: 2.4338 - val_loss: 2.3763\n",
      "Epoch 4/50\n",
      "168344/168344 [==============================] - 164s 975us/sample - loss: 2.3737 - val_loss: 2.3268\n",
      "Epoch 5/50\n",
      "168344/168344 [==============================] - 163s 970us/sample - loss: 2.3324 - val_loss: 2.2908\n",
      "Epoch 6/50\n",
      "168344/168344 [==============================] - 164s 972us/sample - loss: 2.3030 - val_loss: 2.2602\n",
      "Epoch 7/50\n",
      "168344/168344 [==============================] - 165s 978us/sample - loss: 2.2785 - val_loss: 2.2419\n",
      "Epoch 8/50\n",
      "168344/168344 [==============================] - 164s 976us/sample - loss: 2.2570 - val_loss: 2.2176\n",
      "Epoch 9/50\n",
      "168344/168344 [==============================] - 165s 978us/sample - loss: 2.2407 - val_loss: 2.2128\n",
      "Epoch 10/50\n",
      "168344/168344 [==============================] - 164s 977us/sample - loss: 2.2288 - val_loss: 2.1930\n",
      "Epoch 11/50\n",
      "168344/168344 [==============================] - 164s 973us/sample - loss: 2.2176 - val_loss: 2.1885\n",
      "Epoch 12/50\n",
      "168344/168344 [==============================] - 164s 976us/sample - loss: 2.2078 - val_loss: 2.1756\n",
      "Epoch 13/50\n",
      "168344/168344 [==============================] - 164s 977us/sample - loss: 2.1991 - val_loss: 2.1699\n",
      "Epoch 14/50\n",
      "168344/168344 [==============================] - 164s 975us/sample - loss: 2.1921 - val_loss: 2.1649\n",
      "Epoch 15/50\n",
      "168344/168344 [==============================] - 164s 976us/sample - loss: 2.1836 - val_loss: 2.1690\n",
      "Epoch 16/50\n",
      "168344/168344 [==============================] - 162s 964us/sample - loss: 2.1794 - val_loss: 2.1551\n",
      "Epoch 17/50\n",
      "168344/168344 [==============================] - 163s 965us/sample - loss: 2.1760 - val_loss: 2.1509\n",
      "Epoch 18/50\n",
      "168344/168344 [==============================] - 164s 977us/sample - loss: 2.1735 - val_loss: 2.1471\n",
      "Epoch 19/50\n",
      "168344/168344 [==============================] - 164s 974us/sample - loss: 2.1696 - val_loss: 2.1716\n",
      "Epoch 20/50\n",
      "168344/168344 [==============================] - 164s 976us/sample - loss: 2.1641 - val_loss: 2.1481\n",
      "Epoch 00020: early stopping\n"
     ]
    }
   ],
   "source": [
    "start_time = time.time() \n",
    "history=model.fit([x_tr,y_tr[:,:-1]], \n",
    "                  y_tr.reshape(y_tr.shape[0],\n",
    "                               y_tr.shape[1],\n",
    "                               1)[:,1:] ,\n",
    "                  epochs=50,\n",
    "                  callbacks=[es],\n",
    "                  # verbose=2,\n",
    "                  batch_size=128, \n",
    "                  validation_data=([x_val,y_val[:,:-1]], \n",
    "                                   y_val.reshape(y_val.shape[0],\n",
    "                                                 y_val.shape[1], \n",
    "                                                 1)[:,1:]))\n",
    "stop_time = time.time()"
   ]
  },
  {
   "cell_type": "code",
   "execution_count": 41,
   "metadata": {},
   "outputs": [
    {
     "name": "stdout",
     "output_type": "stream",
     "text": [
      "Runtime training model: 3287.80s\n"
     ]
    }
   ],
   "source": [
    "print('Runtime training model: %.2fs' % (stop_time - start_time))"
   ]
  },
  {
   "cell_type": "markdown",
   "metadata": {
    "colab_type": "text",
    "id": "0ezKYOp2UxG5"
   },
   "source": [
    "# Memahami plot Diagnostik\n",
    "\n",
    "Sekarang, kami akan memplot beberapa plot diagnostik untuk memahami hasil pembelajaran model dari waktu ke waktu:"
   ]
  },
  {
   "cell_type": "code",
   "execution_count": 42,
   "metadata": {},
   "outputs": [
    {
     "data": {
      "image/png": "[encoded data removed]",
      "text/plain": [
       "<Figure size 432x288 with 1 Axes>"
      ]
     },
     "metadata": {
      "needs_background": "light"
     },
     "output_type": "display_data"
    }
   ],
   "source": [
    "from matplotlib import pyplot\n",
    "pyplot.plot(history.history['loss'], label='train')\n",
    "pyplot.plot(history.history['val_loss'], label='test')\n",
    "pyplot.legend()\n",
    "pyplot.show()"
   ]
  },
  {
   "cell_type": "markdown",
   "metadata": {
    "colab_type": "text",
    "id": "HSyx-HvpUz2o"
   },
   "source": [
    "Dari plot, kami dapat menyimpulkan bahwa val_loss telah meningkat setelah epoch 17 selama 2 epoch berturut-turut. Karenanya, pelatihan dihentikan pada epoch 19.\n",
    "\n",
    "Selanjutnya, kami membuat kamus untuk mengonversi indeks ke kata untuk kosakata target dan sumber:"
   ]
  },
  {
   "cell_type": "code",
   "execution_count": 43,
   "metadata": {
    "colab": {},
    "colab_type": "code",
    "id": "sBX0zZnOFxjW"
   },
   "outputs": [],
   "source": [
    "reverse_target_word_index=y_tokenizer.index_word\n",
    "reverse_source_word_index=x_tokenizer.index_word\n",
    "target_word_index=y_tokenizer.word_index"
   ]
  },
  {
   "cell_type": "markdown",
   "metadata": {
    "colab_type": "text",
    "id": "eM_nU_VvFxjq"
   },
   "source": [
    "Siapkan inferensi untuk pembuat enkode dan dekoder:"
   ]
  },
  {
   "cell_type": "code",
   "execution_count": 44,
   "metadata": {
    "colab": {
     "base_uri": "https://localhost:8080/",
     "height": 231
    },
    "colab_type": "code",
    "id": "9QkrNV-4Fxjt",
    "outputId": "f9713436-b228-4b7d-f1a1-c5e2e6607c65"
   },
   "outputs": [],
   "source": [
    "# Encode urutan input untuk mendapatkan vektor fitur\n",
    "encoder_model = Model(inputs=encoder_inputs,outputs=[encoder_outputs, state_h, state_c])\n",
    "\n",
    "# Decoder setup\n",
    "# Di bawah ini tensor akan menahan state langkah waktu sebelumnya\n",
    "decoder_state_input_h = Input(shape=(latent_dim,))\n",
    "decoder_state_input_c = Input(shape=(latent_dim,))\n",
    "decoder_hidden_state_input = Input(shape=(max_text_len,latent_dim))\n",
    "\n",
    "# Dapatkan embeddings dari urutan decoder\n",
    "dec_emb2= dec_emb_layer(decoder_inputs) \n",
    "\n",
    "# Untuk memprediksi kata berikutnya dalam urutan, \n",
    "# atur status awal ke status dari langkah waktu sebelumnya\n",
    "decoder_outputs2, state_h2, state_c2 = decoder_lstm(dec_emb2, initial_state=[decoder_state_input_h, decoder_state_input_c])\n",
    "\n",
    "#attention inference\n",
    "attn_out_inf, attn_states_inf = attn_layer([decoder_hidden_state_input, decoder_outputs2])\n",
    "decoder_inf_concat = Concatenate(axis=-1, name='concat')([decoder_outputs2, attn_out_inf])\n",
    "\n",
    "# Lapisan softmax yang padat untuk menghasilkan masalah. atas kosakata target\n",
    "decoder_outputs2 = decoder_dense(decoder_inf_concat) \n",
    "\n",
    "# Final decoder model\n",
    "decoder_model = Model(\n",
    "    [decoder_inputs] + [decoder_hidden_state_input,decoder_state_input_h, decoder_state_input_c],\n",
    "    [decoder_outputs2] + [state_h2, state_c2])"
   ]
  },
  {
   "cell_type": "markdown",
   "metadata": {
    "colab_type": "text",
    "id": "zOiyk4ToWe74"
   },
   "source": [
    "Kami mendefinisikan fungsi di bawah ini yang merupakan implementasi dari proses inferensi"
   ]
  },
  {
   "cell_type": "code",
   "execution_count": 45,
   "metadata": {
    "colab": {},
    "colab_type": "code",
    "id": "6f6TTFnBFxj6"
   },
   "outputs": [],
   "source": [
    "def decode_sequence(input_seq):\n",
    "    # Mengkodekan input sebagai vektor keadaan.\n",
    "    e_out, e_h, e_c = encoder_model.predict(input_seq)\n",
    "    \n",
    "    # Hasilkan urutan target kosong yang panjangnya 1.\n",
    "    target_seq = np.zeros((1,1))\n",
    "    \n",
    "    # Populasikan kata pertama dari urutan target dengan kata awal.\n",
    "    target_seq[0, 0] = target_word_index['sostok']\n",
    "\n",
    "    stop_condition = False\n",
    "    decoded_sentence = ''\n",
    "    while not stop_condition:\n",
    "      \n",
    "        output_tokens, h, c = decoder_model.predict([target_seq] + [e_out, e_h, e_c])\n",
    "\n",
    "        # Sampling token\n",
    "        sampled_token_index = np.argmax(output_tokens[0, -1, :])\n",
    "        sampled_token = reverse_target_word_index[sampled_token_index]\n",
    "        \n",
    "        if(sampled_token!='eostok'):\n",
    "            decoded_sentence += ' '+sampled_token\n",
    "\n",
    "        # Kondisi Exit: baik mencapai panjang max atau temukan kata berhenti.\n",
    "        if (sampled_token == 'eostok'  or len(decoded_sentence.split()) >= (max_summary_len-1)):\n",
    "            stop_condition = True\n",
    "\n",
    "        # Perbarui urutan target (dengan panjang 1).\n",
    "        target_seq = np.zeros((1,1))\n",
    "        target_seq[0, 0] = sampled_token_index\n",
    "\n",
    "        # Perbarui internal states\n",
    "        e_h, e_c = h, c\n",
    "\n",
    "    return decoded_sentence"
   ]
  },
  {
   "cell_type": "markdown",
   "metadata": {
    "colab_type": "text",
    "id": "6GuDf4TPWt6_"
   },
   "source": [
    "Mendefinisikan fungsi untuk mengubah urutan bilangan bulat menjadi urutan kata untuk ringkasan serta ulasan:"
   ]
  },
  {
   "cell_type": "code",
   "execution_count": 46,
   "metadata": {
    "colab": {},
    "colab_type": "code",
    "id": "aAUntznIFxj9"
   },
   "outputs": [],
   "source": [
    "def seq2summary(input_seq):\n",
    "    newString=''\n",
    "    for i in input_seq:\n",
    "        if((i!=0 and i!=target_word_index['sostok']) and i!=target_word_index['eostok']):\n",
    "            newString=newString+reverse_target_word_index[i]+' '\n",
    "    return newString\n",
    "\n",
    "def seq2text(input_seq):\n",
    "    newString=''\n",
    "    for i in input_seq:\n",
    "        if(i!=0):\n",
    "            newString=newString+reverse_source_word_index[i]+' '\n",
    "    return newString"
   ]
  },
  {
   "cell_type": "markdown",
   "metadata": {
    "colab_type": "text",
    "id": "9gM4ALyfWwA9"
   },
   "source": [
    "Berikut adalah beberapa ringkasan yang dihasilkan oleh model yang telah kami buat:"
   ]
  },
  {
   "cell_type": "code",
   "execution_count": 47,
   "metadata": {
    "colab": {},
    "colab_type": "code",
    "id": "BUtQmQTmFxkI"
   },
   "outputs": [
    {
     "name": "stdout",
     "output_type": "stream",
     "text": [
      "Review: say upfront dark chocolates like fan ghiradelli lindt others tried newman organics dark chocolate tasty texture smooth others tried would say better still needs tweaking good lindt \n",
      "Original summary: expected it to be smoother \n",
      "Predicted summary:  not as good as the\n",
      "\n",
      "\n",
      "Review: excited see taco bell brand sauces hoping would like baja sauce loved grilled stuffed burritos whatever chicken quesadillas sauce still okay think would buy though \n",
      "Original summary: not what expected but good \n",
      "Predicted summary:  not what expected\n",
      "\n",
      "\n",
      "Review: acid contained juice another word high fructose corn syrup aka junk gmo \n",
      "Original summary: acid \n",
      "Predicted summary:  not what expected\n",
      "\n",
      "\n",
      "Review: peanuts delicious remind bloody marys without vodka nicely spiced addictive like spicy peanuts enjoy \n",
      "Original summary: addictive \n",
      "Predicted summary:  delicious\n",
      "\n",
      "\n",
      "Review: big thick bully sticks buy locally inch sticks buy locally cost overall stick cannot beat dog loves much loves treats \n",
      "Original summary: great value \n",
      "Predicted summary:  great product\n",
      "\n",
      "\n",
      "Review: husband obsessed coffee take kcups hide around house wanna make sure lasts long time bold delicious flavor \n",
      "Original summary: awesome flavor \n",
      "Predicted summary:  great coffee\n",
      "\n",
      "\n",
      "Review: recently decided husband needed cut back caffeine due health concerns found timothy columbian decafe still lets us enjoy full rich coffee taste crave without jitters thanks \n",
      "Original summary: the world of de caf \n",
      "Predicted summary:  great coffee\n",
      "\n",
      "\n",
      "Review: pleased product use treatment gout believe highly effective recommend product suffer another attack since product \n",
      "Original summary: happy \n",
      "Predicted summary:  great product\n",
      "\n",
      "\n",
      "Review: yet another great product great taste perfect gift bags guests loved easy use mess clean tear pour add liquor drink \n",
      "Original summary: shake go \n",
      "Predicted summary:  great gift\n",
      "\n",
      "\n",
      "Review: little boy likes much made organic whole grains dha probiotics good protein content per calorie good product \n",
      "Original summary: good cereal \n",
      "Predicted summary:  great for baby\n",
      "\n",
      "\n",
      "Review: blend big hit office cant seem keep stock flavorful coffee preferred brands \n",
      "Original summary: green mountain decaf \n",
      "Predicted summary:  great coffee\n",
      "\n",
      "\n",
      "Review: really nice light drink quite thirst quenching cool lime counterpart drink tend drink faster since little sweet \n",
      "Original summary: not as nice as cool lime \n",
      "Predicted summary:  great flavor\n",
      "\n",
      "\n",
      "Review: exactly looking add food storage taste good additives non gmo important also come resealable packages \n",
      "Original summary: perfect \n",
      "Predicted summary:  great product\n",
      "\n",
      "\n",
      "Review: enjoyed flavorful cookie cracker fruit pieces plentiful chewy cookie mild sweet great combination \n",
      "Original summary: delicious crispy fruity \n",
      "Predicted summary:  yummy\n",
      "\n",
      "\n",
      "Review: company wonder seedlings seed growing kits wonderful purchased many products including bonsai grow kits never disappointed \n",
      "Original summary: rocks \n",
      "Predicted summary:  bonsai tree\n",
      "\n",
      "\n",
      "Review: former chef honestly say best powdered product ever used instantly turn something ordinary something delicious must pantry \n",
      "Original summary: vegetarian vegetable broth \n",
      "Predicted summary:  best ever\n",
      "\n",
      "\n",
      "Review: fabulous price use able get time price chopper particular type seemed disappear could chicago new york style set auto delivery cheaper bought store \n",
      "Original summary: classic marinade \n",
      "Predicted summary:  great product\n",
      "\n",
      "\n",
      "Review: delicious long cooking oats need soaked overnight cooking morning bit hassle long cooking version fiber quick cooking version next time go quick cooking \n",
      "Original summary: be prepared to \n",
      "Predicted summary:  great oatmeal\n",
      "\n",
      "\n",
      "Review: recieved yeast days checked date expired removed original packaging pleased company sent \n",
      "Original summary: old yeast does not rise \n",
      "Predicted summary:  dented cans\n",
      "\n",
      "\n",
      "Review: first time purchased one packs got really nice variety coffees second time got virtually regular coffee ton flavored coffee unusual flavors \n",
      "Original summary: not as good as the first time \n",
      "Predicted summary:  great coffee\n",
      "\n",
      "\n",
      "Review: loving parachute coconut oil use baby diaper rashes sore areas without altering integrity diapers use cooking homemade baby wipe solution hair care great product great price \n",
      "Original summary: versatile product great quality \n",
      "Predicted summary:  great product\n",
      "\n",
      "\n",
      "Review: start saying first popcorn popped since machine popcorn tastes great seem like even next day \n",
      "Original summary: tastes great \n",
      "Predicted summary:  great popcorn\n",
      "\n",
      "\n",
      "Review: coffee great stuff people coffee pods bulky cumbersome like single cup brewers market \n",
      "Original summary: great coffee \n",
      "Predicted summary:  great coffee\n",
      "\n",
      "\n",
      "Review: tastes good especially really cold days winter around holidays makes feel festive \n",
      "Original summary: festive \n",
      "Predicted summary:  great product\n",
      "\n",
      "\n",
      "Review: looking good malt milkshakes worked making ice cream good one great love super good malted milk shakes try \n",
      "Original summary: great \n",
      "Predicted summary:  great product\n",
      "\n",
      "\n",
      "Review: got jar gift basket wasnt sure decided try crackers delicious sweet nice kick jalapeno since burgers potatoes vegetables quickly went online order found sold signed amazon notified come \n",
      "Original summary: delicious \n",
      "Predicted summary:  great gift\n",
      "\n",
      "\n",
      "Review: remember old creamers kid used eat powered creamer spoon becasue good mistakenly said dairy bad heart everything went chemicals new chemical creamers yucky want return good old days \n",
      "Original summary: remember the old creamers \n",
      "Predicted summary:  not what expected\n",
      "\n",
      "\n",
      "Review: bought mints thought new flavor new sent simple mint simple mint new ok \n",
      "Original summary: also known as simple mint \n",
      "Predicted summary:  not as good as the\n",
      "\n",
      "\n",
      "Review: worried feeding ferals well princess cat hard sell ferals gobbled \n",
      "Original summary: the cats seem to like \n",
      "Predicted summary:  cat food\n",
      "\n",
      "\n",
      "Review: best fudge also make wonderful truffles love mint ones interested give confections try regret \n",
      "Original summary: fantastic fudge \n",
      "Predicted summary:  delicious\n",
      "\n",
      "\n",
      "Review: like onions like eating dehydrated one product went garbage would purchase \n",
      "Original summary: tasted like an onion \n",
      "Predicted summary:  not as good as it\n",
      "\n",
      "\n",
      "Review: love product eat everyday taste great healthy lowers cholesterol according wife wish raised price late especially without notice subscribe save customers \n",
      "Original summary: great stuff \n",
      "Predicted summary:  great product\n",
      "\n",
      "\n",
      "Review: prepared balm would get right back shower realized definitely \n",
      "Original summary: prepare to do double wash true \n",
      "Predicted summary:  the best\n",
      "\n",
      "\n",
      "Review: tried chicken neither left pleasant taste bitter good soup base \n",
      "Original summary: poor taste \n",
      "Predicted summary:  not so good\n",
      "\n",
      "\n",
      "Review: great irregular thing found shape flavors great usual jelly belly quality great went quickly \n",
      "Original summary: belly flops think not \n",
      "Predicted summary:  great\n",
      "\n",
      "\n",
      "Review: granddaughter requires gluten free thought would try big success actually tasted pretty good \n",
      "Original summary: yummy \n",
      "Predicted summary:  good but not great\n",
      "\n",
      "\n",
      "Review: got today excited try usually big pumpkin anything actually loved latte sweet made think thanksgiving home wonderful feeling cannot wait try flavors hope available area would recommend friends \n",
      "Original summary: yummy \n",
      "Predicted summary:  delicious\n",
      "\n",
      "\n",
      "Review: best sugar ever tasted refuse use anything less coffee tea try self personally cannot describe flavor sugar self say coffee taste bit bolder flavor distinct sweet flavor \n",
      "Original summary: love it raw \n",
      "Predicted summary:  best tea ever\n",
      "\n",
      "\n",
      "Review: still like old dove better one ok like one better though http www amazon com gp product ref oh details everyone different opinion \n",
      "Original summary: it is okay \n",
      "Predicted summary:  not as good as the\n",
      "\n",
      "\n",
      "Review: love lychees try delicious taste spot \n",
      "Original summary: delicious \n",
      "Predicted summary:  delicious\n",
      "\n",
      "\n",
      "Review: pitbull favorite nylabones wont give anything else nylabones last long time happy dog everytime come home one keeps busy \n",
      "Original summary: my loves these \n",
      "Predicted summary:  great product\n",
      "\n",
      "\n",
      "Review: excellent food dogs well wish would create corresponding wild wet bulldogs getting little bored repetition canned options would nice know offer \n",
      "Original summary: very good food for dogs with allergies \n",
      "Predicted summary:  great product\n",
      "\n",
      "\n",
      "Review: two bottles arrived damaged cannot use need return means cherry concentrate unless find locally disappointing \n",
      "Original summary: are so damaged product cannot be used \n"
     ]
    },
    {
     "name": "stdout",
     "output_type": "stream",
     "text": [
      "Predicted summary:  not as pictured\n",
      "\n",
      "\n",
      "Review: like taste much ok tasted little odd loved white lightening chicken chili recommended chicken noodle soup \n",
      "Original summary: did not like the taste \n",
      "Predicted summary:  not so good\n",
      "\n",
      "\n",
      "Review: say beef delicious much say already included product description \n",
      "Original summary: delicious \n",
      "Predicted summary:  great product\n",
      "\n",
      "\n",
      "Review: used week noticed kitchen bait trap choose avoid bait also patent disappoint justify effects \n",
      "Original summary: totally useless and attract more \n",
      "Predicted summary:  works\n",
      "\n",
      "\n",
      "Review: calories bad treat pleasantly surprised good flavor major drawback difficult get dissolve hot water takes work lumps side cup worth really good nice cinnamon added \n",
      "Original summary: yummy for diet product \n",
      "Predicted summary:  good but not great\n",
      "\n",
      "\n",
      "Review: best purchase ever family goes sunflower seeds like mine case well worth cost seeds bag fresh bags resealable would nice made cases multiple flavors instead one \n",
      "Original summary: hot and spicy seeds \n",
      "Predicted summary:  best rice ever\n",
      "\n",
      "\n",
      "Review: fan haribo gold bears many years highest quality best tasting gummys world definitely recommend getting lb bag economical thank haribo \n",
      "Original summary: gold bears are the best \n",
      "Predicted summary:  best gummy bears ever\n",
      "\n",
      "\n",
      "Review: babies put twizlers shame even big red licorice fan red vines exception ordered large tub never want hand \n",
      "Original summary: great candy \n",
      "Predicted summary:  great product\n",
      "\n",
      "\n",
      "Review: get exact product oz costco would anyone pay price insane love product though \n",
      "Original summary: price is ridiculous \n",
      "Predicted summary:  price is great\n",
      "\n",
      "\n",
      "Review: love product great taste however jar small especially price see ordering \n",
      "Original summary: yummy \n",
      "Predicted summary:  great product\n",
      "\n",
      "\n",
      "Review: great bar unfortunately yo unwrap gets stuck wrapper heat great bar gives good lasting energy though \n",
      "Original summary: good bar bad shipping \n",
      "Predicted summary:  great bars\n",
      "\n",
      "\n",
      "Review: love hot chocolate one weak add little syrup give chocolate taste \n",
      "Original summary: taste \n",
      "Predicted summary:  hot chocolate\n",
      "\n",
      "\n",
      "Review: delicious coffee make refrigerate drink cold lot cream sip breathe lot pick raspberry aroma best find \n",
      "Original summary: most delicious coffee \n",
      "Predicted summary:  delicious\n",
      "\n",
      "\n",
      "Review: taste good convenient cooking makes great fried eggs clarified butter ever used make comparison ordering \n",
      "Original summary: tastes like butter \n",
      "Predicted summary:  great product\n",
      "\n",
      "\n",
      "Review: coffee bean direct coffee good coffee great value also makes good expresso take arrive worth wait fell love costa rican coffee visiting vacation almost good \n",
      "Original summary: good coffee good value \n",
      "Predicted summary:  great coffee\n",
      "\n",
      "\n",
      "Review: purchased first time second time beans soften pasta \n",
      "Original summary: cannot say this is tasty \n",
      "Predicted summary:  great product\n",
      "\n",
      "\n",
      "Review: cannot eat regular chocolate wonderful yummy diabetics people choosing eat sugar tasty \n",
      "Original summary: yummy smooth delicious \n",
      "Predicted summary:  delicious\n",
      "\n",
      "\n",
      "Review: like hot cinnamon best hard candy wish cost lower \n",
      "Original summary: love these \n",
      "Predicted summary:  great\n",
      "\n",
      "\n",
      "Review: great taste fast turn around satisfied \n",
      "Original summary: gluten free corn flakes \n",
      "Predicted summary:  great product\n",
      "\n",
      "\n",
      "Review: recieved truffles one day shipping customer service top opened jar enjoyed aroma shop \n",
      "Original summary: customer \n",
      "Predicted summary:  great product\n",
      "\n",
      "\n",
      "Review: healthy brown rice flour ground finely enough make cookies banana bread \n",
      "Original summary: great for banana bread \n",
      "Predicted summary:  great flour\n",
      "\n",
      "\n",
      "Review: second order like taste aroma seems fresh clean smooth full flavored tea whole family drinking go lot prefer twinings \n",
      "Original summary: am very happy with it \n",
      "Predicted summary:  great tea\n",
      "\n",
      "\n",
      "Review: bit underwhelmed noodles typical macaroni type food seasoning cheese bit strong \n",
      "Original summary: good but not great \n",
      "Predicted summary:  not what expected\n",
      "\n",
      "\n",
      "Review: refreshing great fast oolong tea much cheaper buy case amazon saved per almost times saving fast easy transaction \n",
      "Original summary: great oolong shot \n",
      "Predicted summary:  great tea\n",
      "\n",
      "\n",
      "Review: really look taste like someone took slice pumpkin pie light graham cracker crust pureed little bit peach baby likes unlike baby foods would mind eating either \n",
      "Original summary: so good \n",
      "Predicted summary:  good stuff\n",
      "\n",
      "\n",
      "Review: anything like like coffee strong tassimo blend remember ever seeing blend starbucks shops tasty definitely bold \n",
      "Original summary: amazing taste \n",
      "Predicted summary:  great coffee\n",
      "\n",
      "\n",
      "Review: great tasting satisfying need something quick add bottle water cannot go wrong love light \n",
      "Original summary: delicious picky hubby even likes \n",
      "Predicted summary:  great product\n",
      "\n",
      "\n",
      "Review: product good get much energy regular brand much wow without caffeine use product often want add caffeine day \n",
      "Original summary: hour review \n",
      "Predicted summary:  great product\n",
      "\n",
      "\n",
      "Review: best salt ever use finishing salt table crunchy salty never use another salt \n",
      "Original summary: the only salt to use \n",
      "Predicted summary:  great salt\n",
      "\n",
      "\n",
      "Review: tastes great msg really make stock find company use unhealthy ingredient mon knorr make fantastic bouillon without \n",
      "Original summary: msg \n",
      "Predicted summary:  great product\n",
      "\n",
      "\n",
      "Review: family started haribo living germany fathers navy tour obsessed regular haribo gummies returned stateside still gummy eat satisfied years ago exception amazon pricing discounts cant go wrong \n",
      "Original summary: always the best from haribo \n",
      "Predicted summary:  best gummy bears ever\n",
      "\n",
      "\n",
      "Review: good purchase practical economical fast delivery sparse packaging product important item \n",
      "Original summary: not to \n",
      "Predicted summary:  good product\n",
      "\n",
      "\n",
      "Review: truffles really great skeptical reading low fat calories truly satisfying would never guessed healthier version sinful favorite creator registered put knowledge talent good use wonderful treats \n",
      "Original summary: surprisingly really good \n",
      "Predicted summary:  delicious\n",
      "\n",
      "\n",
      "Review: purchased fruit treats dogs first time love natual healthy small size like size dogs brought flavors try loved would recommend size dog \n",
      "Original summary: doggie fruitables \n",
      "Predicted summary:  great product\n",
      "\n",
      "\n",
      "Review: works great bath salts make fizz arrived quickly well packaged \n",
      "Original summary: works great \n",
      "Predicted summary:  great product\n",
      "\n",
      "\n",
      "Review: husband gluten intolerant says makes absolutely best pancakes waffles banana bread highly recommend \n",
      "Original summary: gluten free baking \n",
      "Predicted summary:  best gluten free bread mix\n",
      "\n",
      "\n",
      "Review: says works like corn starch may able get cornstarch store little cheaper convenience good \n",
      "Original summary: met expectations \n",
      "Predicted summary:  great product\n",
      "\n",
      "\n",
      "Review: tried vanilla ice cream flavor good drink coffee joke far best protein shake flavor ever aftertaste believe tried one best taste \n",
      "Original summary: this stuff is awesome \n",
      "Predicted summary:  best drink ever\n",
      "\n",
      "\n",
      "Review: tart sweet much carbonation right everyone intrigued bottle see taste fan purchase pack sam finding pink grapefruit hit miss able find singles case auto shipped less expensive reliable \n",
      "Original summary: refreshingly delicious \n",
      "Predicted summary:  great flavor\n",
      "\n",
      "\n",
      "Review: second time wife order amazon extremely hard find one place sold longer carries taste great honestly best mints available continue order amazon \n",
      "Original summary: taste great \n",
      "Predicted summary:  best ever\n",
      "\n",
      "\n",
      "Review: ordered curiosity tasted good sweet problem bit pricey small ounce jar seems bit much small jar still would interested buying product great buttered english muffin \n",
      "Original summary: good but pricey \n",
      "Predicted summary:  good stuff\n",
      "\n",
      "\n",
      "Review: tasty cereal makes good whole grain bread gives squirts sensitive stomache suggest caution \n",
      "Original summary: gives strong laxative effect \n",
      "Predicted summary:  good stuff\n",
      "\n",
      "\n",
      "Review: bags thin already holes leaves came offered loose tea ok acceptable teabags tea nasty spoiled taste finally discarded poor choice \n",
      "Original summary: poor bags \n",
      "Predicted summary:  not what expected\n",
      "\n",
      "\n",
      "Review: nice mild flavor hazelnut could bit obvious personal liking average coffee consumer nice coffee \n",
      "Original summary: green mountain kcup hazelnut coffee \n"
     ]
    },
    {
     "name": "stdout",
     "output_type": "stream",
     "text": [
      "Predicted summary:  good coffee\n",
      "\n",
      "\n",
      "Review: many allergies household bread gift gods would bread break handling good alternative many products one keep buying \n",
      "Original summary: very good and good for you \n",
      "Predicted summary:  great bread\n",
      "\n",
      "\n",
      "Review: baby loves squash eat almost anything else order lot eb baby food jars one issue broken glass amazon fixed problem quickly promptly refunded money \n",
      "Original summary: she eats it and she is not \n",
      "Predicted summary:  baby loves it\n",
      "\n",
      "\n",
      "Review: one best hazelnut spread good nutritional value certified organic italy sat fat trans fat mg serving size tbsp carb sugar better choco hazel nut spread \n",
      "Original summary: chocolate hazelnut spread \n",
      "Predicted summary:  great taste\n",
      "\n",
      "\n",
      "Review: daughter law served product visit grandson great makes skim milk adds flavor nutrition value \n",
      "Original summary: worth buying \n",
      "Predicted summary:  great product\n",
      "\n",
      "\n",
      "Review: good seasoning blend salty way top salty tastes salt free version uses something place salt seems make really bitter apparently happy medium make greek seasoning lots recipes web \n",
      "Original summary: good but salty salty salty \n",
      "Predicted summary:  not as good as the salt\n",
      "\n",
      "\n",
      "Review: christmas gift wife green tea ones drinks good price shipped fast everyone happy \n",
      "Original summary: great tasting tea \n",
      "Predicted summary:  great gift\n",
      "\n",
      "\n",
      "Review: love sumatra one impress pale bitter load sugar get good taste much cream cut bitter got washed never brand \n",
      "Original summary: not impressed \n",
      "Predicted summary:  not worth it\n",
      "\n",
      "\n",
      "Review: love love love belly flops took bag us vacation saved bundle keeping son overpriced candy shops also made game deciding joined flops looked like three joined interesting shapes \n",
      "Original summary: these are the best \n",
      "Predicted summary:  great\n",
      "\n",
      "\n",
      "Review: awesome product price organic sweet add little salt make taste better apple taste awesome two packs filling definite buy \n",
      "Original summary: awsome oatmeal \n",
      "Predicted summary:  great product\n",
      "\n",
      "\n",
      "Review: always keep hand amazing plain goat cheese top friends asked name tried flavors ginger favorite everyone else agrees amazon half price local health food store charges \n",
      "Original summary: everyone loves these \n",
      "Predicted summary:  delicious\n",
      "\n",
      "\n",
      "Review: community coffee never blend dark rich bitter excellent cup coffee become favorite \n",
      "Original summary: great coffee \n",
      "Predicted summary:  best coffee ever\n",
      "\n",
      "\n",
      "Review: pump hard operate vinegar good pump nearly useless \n",
      "Original summary: bad pump \n",
      "Predicted summary:  not what expected\n",
      "\n",
      "\n",
      "Review: right food changing diet reducing cholesterol nutty flavor add cereal yogurt anything let us mix bit choke dust get much cheaper go web site bob red mill less \n",
      "Original summary: great product bit pricey \n",
      "Predicted summary:  great product\n",
      "\n",
      "\n",
      "Review: mind taste one enough berry flavor tastes like vitamin tried green one soo yucky cannot drink flavor works best use toddler uses \n",
      "Original summary: great product \n",
      "Predicted summary:  great taste\n",
      "\n",
      "\n"
     ]
    }
   ],
   "source": [
    "for i in range(0,100):\n",
    "    print(\"Review:\",seq2text(x_tr[i]))\n",
    "    print(\"Original summary:\",seq2summary(y_tr[i]))\n",
    "    print(\"Predicted summary:\",decode_sequence(x_tr[i].reshape(1,max_text_len)))\n",
    "\n",
    "    print(\"\\n\")"
   ]
  },
  {
   "cell_type": "markdown",
   "metadata": {
    "colab_type": "text",
    "id": "OTkaYNjHW4lC"
   },
   "source": [
    "# **Kesimpulan**\n",
    "\n",
    "Ini hal yang cukup bagus. Meskipun ringkasan aktual dan ringkasan yang dihasilkan oleh model kami tidak cocok dalam hal kata-kata, keduanya menyampaikan makna yang sama. Model kami mampu menghasilkan ringkasan yang dapat dibaca berdasarkan konteks yang ada dalam teks.\n",
    "\n",
    "Ini adalah bagaimana model kami dapat melakukan peringkasan teks menggunakan konsep deep learning dengan Python."
   ]
  },
  {
   "cell_type": "code",
   "execution_count": 48,
   "metadata": {
    "colab": {},
    "colab_type": "code",
    "id": "m6VsbxIAg5hJ"
   },
   "outputs": [],
   "source": [
    "model.save('Hussein_SUMMARYYY_NLP.h5')\n",
    "model.save_weights('Hussein_SUMMARYYY_NLP_weights.h5')"
   ]
  },
  {
   "cell_type": "code",
   "execution_count": null,
   "metadata": {
    "colab": {},
    "colab_type": "code",
    "id": "VUDNVN2gdLUU"
   },
   "outputs": [],
   "source": []
  }
 ],
 "metadata": {
  "colab": {
   "collapsed_sections": [],
   "name": "Salinan 2 NLP TUGAS TEKS PROCESSING.ipynb",
   "provenance": [],
   "toc_visible": true
  },
  "kernelspec": {
   "display_name": "Python 3",
   "language": "python",
   "name": "python3"
  },
  "language_info": {
   "codemirror_mode": {
    "name": "ipython",
    "version": 3
   },
   "file_extension": ".py",
   "mimetype": "text/x-python",
   "name": "python",
   "nbconvert_exporter": "python",
   "pygments_lexer": "ipython3",
   "version": "3.7.4"
  }
 },
 "nbformat": 4,
 "nbformat_minor": 1
}
